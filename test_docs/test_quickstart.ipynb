{
 "cells": [
  {
   "cell_type": "code",
   "execution_count": null,
   "metadata": {},
   "outputs": [],
   "source": [
    "import jax\n",
    "import jax.numpy as jnp\n",
    "from flowMC.nfmodel.rqSpline import RQSpline\n",
    "from flowMC.sampler.MALA import make_mala_sampler\n",
    "from flowMC.sampler.Sampler import Sampler\n",
    "from flowMC.utils.PRNG_keys import initialize_rng_keys\n",
    "from flowMC.nfmodel.utils import *\n",
    "import numpy as np"
   ]
  },
  {
   "cell_type": "code",
   "execution_count": 3,
   "metadata": {},
   "outputs": [
    {
     "name": "stdout",
     "output_type": "stream",
     "text": [
      "No autotune found, use input sampler_params\n",
      "Training normalizing flow\n"
     ]
    },
    {
     "name": "stderr",
     "output_type": "stream",
     "text": [
      "Sampling Locally: 100%|██████████| 49/49 [00:03<00:00, 13.02it/s]\n",
      "Training NF:   0%|          | 0/30 [00:10<?, ?it/s]"
     ]
    }
   ],
   "source": [
    "def posterior(x):\n",
    "    return -0.5 * jnp.sum(x ** 2)\n",
    "\n",
    "n_dim = 5\n",
    "n_chains = 10\n",
    "\n",
    "rng_key_set = initialize_rng_keys(n_chains, seed=42)\n",
    "initial_position = jax.random.normal(rng_key_set[0], shape=(n_chains, n_dim)) * 1\n",
    "model = RQSpline(n_dim, 3, [64, 64], 8)\n",
    "local_sampler_caller = lambda x: make_mala_sampler(x, jit=True)\n",
    "sampler_params = {'dt': 5e-1}\n",
    "\n",
    "nf_sampler = Sampler(n_dim,\n",
    "                    rng_key_set,\n",
    "                    local_sampler_caller,\n",
    "                    sampler_params,\n",
    "                    posterior,\n",
    "                    model,\n",
    "                    n_local_steps = 50,\n",
    "                    n_global_steps = 50,\n",
    "                    n_epochs = 30,\n",
    "                    learning_rate = 1e-2,\n",
    "                    batch_size = 1000,\n",
    "                    n_chains = n_chains)\n",
    "\n",
    "nf_sampler.sample(initial_position)\n",
    "chains,log_prob,local_accs, global_accs = nf_sampler.get_sampler_state().values()"
   ]
  },
  {
   "cell_type": "code",
   "execution_count": 2,
   "metadata": {},
   "outputs": [
    {
     "name": "stdout",
     "output_type": "stream",
     "text": [
      "Logged during tuning: dict_keys(['chains', 'log_prob', 'local_accs', 'global_accs', 'loss_vals'])\n"
     ]
    },
    {
     "ename": "NameError",
     "evalue": "name 'np' is not defined",
     "output_type": "error",
     "traceback": [
      "\u001b[0;31m---------------------------------------------------------------------------\u001b[0m",
      "\u001b[0;31mNameError\u001b[0m                                 Traceback (most recent call last)",
      "\u001b[1;32m/Users/marylou/Dropbox/Postdoc/Experiments/astro-flo-naco/NFSampler/test_docs/test_quickstart.ipynb Cell 2\u001b[0m in \u001b[0;36m<cell line: 6>\u001b[0;34m()\u001b[0m\n\u001b[1;32m      <a href='vscode-notebook-cell:/Users/marylou/Dropbox/Postdoc/Experiments/astro-flo-naco/NFSampler/test_docs/test_quickstart.ipynb#W1sZmlsZQ%3D%3D?line=3'>4</a>\u001b[0m \u001b[39mimport\u001b[39;00m \u001b[39mcorner\u001b[39;00m\n\u001b[1;32m      <a href='vscode-notebook-cell:/Users/marylou/Dropbox/Postdoc/Experiments/astro-flo-naco/NFSampler/test_docs/test_quickstart.ipynb#W1sZmlsZQ%3D%3D?line=4'>5</a>\u001b[0m \u001b[39mimport\u001b[39;00m \u001b[39mmatplotlib\u001b[39;00m\u001b[39m.\u001b[39;00m\u001b[39mpyplot\u001b[39;00m \u001b[39mas\u001b[39;00m \u001b[39mplt\u001b[39;00m\n\u001b[0;32m----> <a href='vscode-notebook-cell:/Users/marylou/Dropbox/Postdoc/Experiments/astro-flo-naco/NFSampler/test_docs/test_quickstart.ipynb#W1sZmlsZQ%3D%3D?line=5'>6</a>\u001b[0m chains \u001b[39m=\u001b[39m np\u001b[39m.\u001b[39marray(out_train[\u001b[39m'\u001b[39m\u001b[39mchains\u001b[39m\u001b[39m'\u001b[39m])\n\u001b[1;32m      <a href='vscode-notebook-cell:/Users/marylou/Dropbox/Postdoc/Experiments/astro-flo-naco/NFSampler/test_docs/test_quickstart.ipynb#W1sZmlsZQ%3D%3D?line=6'>7</a>\u001b[0m global_accs \u001b[39m=\u001b[39m np\u001b[39m.\u001b[39marray(out_train[\u001b[39m'\u001b[39m\u001b[39mglobal_accs\u001b[39m\u001b[39m'\u001b[39m])\n\u001b[1;32m      <a href='vscode-notebook-cell:/Users/marylou/Dropbox/Postdoc/Experiments/astro-flo-naco/NFSampler/test_docs/test_quickstart.ipynb#W1sZmlsZQ%3D%3D?line=7'>8</a>\u001b[0m local_accs \u001b[39m=\u001b[39m np\u001b[39m.\u001b[39marray(out_train[\u001b[39m'\u001b[39m\u001b[39mlocal_accs\u001b[39m\u001b[39m'\u001b[39m])\n",
      "\u001b[0;31mNameError\u001b[0m: name 'np' is not defined"
     ]
    }
   ],
   "source": [
    "out_train = nf_sampler.get_sampler_state(training=True)\n",
    "print('Logged during tuning:', out_train.keys())\n",
    "\n",
    "import corner\n",
    "import matplotlib.pyplot as plt\n",
    "chains = np.array(out_train['chains'])\n",
    "global_accs = np.array(out_train['global_accs'])\n",
    "local_accs = np.array(out_train['local_accs'])\n",
    "loss_vals = np.array(out_train['loss_vals'])\n",
    "nf_samples = np.array(nf_sampler.sample_flow(1000)[1])\n",
    "\n",
    "\n",
    "# Plot 2 chains in the plane of 2 coordinates for first visual check \n",
    "plt.figure(figsize=(6, 6))\n",
    "axs = [plt.subplot(2, 2, i + 1) for i in range(4)]\n",
    "plt.sca(axs[0])\n",
    "plt.title(\"2d proj of 2 chains\")\n",
    "\n",
    "plt.plot(chains[0, :, 0], chains[0, :, 1], 'o-', alpha=0.5, ms=2)\n",
    "plt.plot(chains[1, :, 0], chains[1, :, 1], 'o-', alpha=0.5, ms=2)\n",
    "plt.xlabel(\"$x_1$\")\n",
    "plt.ylabel(\"$x_2$\")\n",
    "\n",
    "plt.sca(axs[1])\n",
    "plt.title(\"NF loss\")\n",
    "plt.plot(loss_vals.reshape(-1))\n",
    "plt.xlabel(\"iteration\")\n",
    "\n",
    "plt.sca(axs[2])\n",
    "plt.title(\"Local Acceptance\")\n",
    "plt.plot(local_accs.mean(0))\n",
    "plt.xlabel(\"iteration\")\n",
    "\n",
    "plt.sca(axs[3])\n",
    "plt.title(\"Global Acceptance\")\n",
    "plt.plot(global_accs.mean(0))\n",
    "plt.xlabel(\"iteration\")\n",
    "plt.tight_layout()\n",
    "plt.show(block=False)\n",
    "\n",
    "labels=[\"$x_1$\", \"$x_2$\", \"$x_3$\", \"$x_4$\", \"$x_5$\"]\n",
    "# Plot all chains\n",
    "figure = corner.corner(\n",
    "    chains.reshape(-1, n_dim), labels=labels\n",
    ")\n",
    "figure.set_size_inches(7, 7)\n",
    "figure.suptitle(\"Visualize samples\")\n",
    "plt.show(block=False)\n",
    "\n",
    "# Plot Nf samples\n",
    "figure = corner.corner(nf_samples, labels=labels)\n",
    "figure.set_size_inches(7, 7)\n",
    "figure.suptitle(\"Visualize NF samples\")\n",
    "plt.show()\n"
   ]
  },
  {
   "cell_type": "code",
   "execution_count": null,
   "metadata": {},
   "outputs": [],
   "source": []
  }
 ],
 "metadata": {
  "kernelspec": {
   "display_name": "Python 3.10.4 ('flowmc')",
   "language": "python",
   "name": "python3"
  },
  "language_info": {
   "codemirror_mode": {
    "name": "ipython",
    "version": 3
   },
   "file_extension": ".py",
   "mimetype": "text/x-python",
   "name": "python",
   "nbconvert_exporter": "python",
   "pygments_lexer": "ipython3",
   "version": "3.10.6"
  },
  "orig_nbformat": 4,
  "vscode": {
   "interpreter": {
    "hash": "ec3f6c14fb6e722363010d94e1b2ebf2e2ce23e91aab9e6b85641869e0547698"
   }
  }
 },
 "nbformat": 4,
 "nbformat_minor": 2
}
