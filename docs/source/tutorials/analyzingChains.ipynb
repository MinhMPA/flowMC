{
 "cells": [
  {
   "cell_type": "markdown",
   "metadata": {},
   "source": [
    "# Analyzing sampling result"
   ]
  },
  {
   "cell_type": "markdown",
   "metadata": {},
   "source": [
    "In this tutorial, we will show how to analyze the sampling result from `flowMC` using `arviz`. In particular, we will look at $\\hat{R}$ and effective sample size (ESS) to check convergence and efficiency of the sampling result."
   ]
  },
  {
   "cell_type": "code",
   "execution_count": 2,
   "metadata": {},
   "outputs": [
    {
     "name": "stdout",
     "output_type": "stream",
     "text": [
      "Preparing RNG keys\n",
      "Initializing MCMC model and normalizing flow model.\n",
      "Initializing sampler class\n",
      "Sampling\n",
      "No autotune found, use input sampler_params\n",
      "Training normalizing flow\n"
     ]
    },
    {
     "name": "stderr",
     "output_type": "stream",
     "text": [
      "Sampling Locally: 100%|██████████| 99/99 [00:00<00:00, 104.00it/s]\n",
      "Training NF, current loss: 7.316: 100%|██████████| 30/30 [00:11<00:00,  2.54it/s] \n",
      "Sampling Locally: 100%|██████████| 99/99 [00:00<00:00, 394.74it/s]\n",
      "Training NF, current loss: 5.818: 100%|██████████| 30/30 [00:01<00:00, 24.31it/s]\n",
      "Sampling Locally: 100%|██████████| 99/99 [00:00<00:00, 302.29it/s]\n",
      "Training NF, current loss: 5.393: 100%|██████████| 30/30 [00:00<00:00, 32.58it/s]\n",
      "Sampling Locally: 100%|██████████| 99/99 [00:00<00:00, 312.81it/s]\n",
      "Training NF, current loss: 5.615: 100%|██████████| 30/30 [00:00<00:00, 33.93it/s]\n",
      "Sampling Locally: 100%|██████████| 99/99 [00:00<00:00, 412.45it/s]\n",
      "Training NF, current loss: 5.049: 100%|██████████| 30/30 [00:00<00:00, 40.89it/s]\n",
      "Sampling Locally: 100%|██████████| 99/99 [00:00<00:00, 270.95it/s]\n",
      "Sampling Locally: 100%|██████████| 99/99 [00:00<00:00, 293.42it/s]\n",
      "Sampling Locally: 100%|██████████| 99/99 [00:00<00:00, 421.38it/s]\n",
      "Sampling Locally: 100%|██████████| 99/99 [00:00<00:00, 281.92it/s]\n",
      "Sampling Locally: 100%|██████████| 99/99 [00:00<00:00, 357.40it/s]\n"
     ]
    }
   ],
   "source": [
    "from flowMC.nfmodel.rqSpline import RQSpline\n",
    "from flowMC.sampler.MALA import make_mala_sampler\n",
    "\n",
    "import jax\n",
    "import jax.numpy as jnp  # JAX NumPy\n",
    "from jax.scipy.special import logsumexp\n",
    "import numpy as np\n",
    "\n",
    "from flowMC.sampler.Sampler import Sampler\n",
    "from flowMC.utils.PRNG_keys import initialize_rng_keys\n",
    "\n",
    "from flowMC.nfmodel.utils import *\n",
    "\n",
    "\n",
    "def dual_moon_pe(x):\n",
    "    \"\"\"\n",
    "    Term 2 and 3 separate the distribution and smear it along the first and second dimension\n",
    "    \"\"\"\n",
    "    term1 = 0.5 * ((jnp.linalg.norm(x) - 2) / 0.1) ** 2\n",
    "    term2 = -0.5 * ((x[:1] + jnp.array([-3.0, 3.0])) / 0.8) ** 2\n",
    "    term3 = -0.5 * ((x[1:2] + jnp.array([-3.0, 3.0])) / 0.6) ** 2\n",
    "    return -(term1 - logsumexp(term2) - logsumexp(term3))\n",
    "\n",
    "\n",
    "### Demo config\n",
    "\n",
    "n_dim = 5\n",
    "n_chains = 20\n",
    "n_loop_training = 5\n",
    "n_loop_production = 5\n",
    "n_local_steps = 100\n",
    "n_global_steps = 100\n",
    "learning_rate = 0.01\n",
    "momentum = 0.9\n",
    "num_epochs = 30\n",
    "batch_size = 10000\n",
    "\n",
    "print(\"Preparing RNG keys\")\n",
    "rng_key_set = initialize_rng_keys(n_chains, seed=42)\n",
    "\n",
    "print(\"Initializing MCMC model and normalizing flow model.\")\n",
    "\n",
    "initial_position = jax.random.normal(rng_key_set[0], shape=(n_chains, n_dim)) * 1\n",
    "model = RQSpline(n_dim, 10, [128, 128], 8)\n",
    "local_sampler_caller = lambda x: make_mala_sampler(x, jit=True)\n",
    "\n",
    "print(\"Initializing sampler class\")\n",
    "\n",
    "nf_sampler = Sampler(\n",
    "    n_dim,\n",
    "    rng_key_set,\n",
    "    local_sampler_caller,\n",
    "    {'dt':1e-1},\n",
    "    dual_moon_pe,\n",
    "    model,\n",
    "    n_loop_training=n_loop_training,\n",
    "    n_loop_production=n_loop_production,\n",
    "    n_local_steps=n_local_steps,\n",
    "    n_global_steps=n_global_steps,\n",
    "    n_chains=n_chains,\n",
    "    n_epochs=num_epochs,\n",
    "    learning_rate=learning_rate,\n",
    "    momentum=momentum,\n",
    "    batch_size=batch_size,\n",
    "    use_global=True,\n",
    ")\n",
    "\n",
    "print(\"Sampling\")\n",
    "\n",
    "nf_sampler.sample(initial_position)\n",
    "\n",
    "summary = nf_sampler.get_sampler_state(training=True)\n",
    "chains, log_prob, local_accs, global_accs, loss_vals = summary.values() "
   ]
  },
  {
   "cell_type": "code",
   "execution_count": null,
   "metadata": {},
   "outputs": [],
   "source": []
  }
 ],
 "metadata": {
  "kernelspec": {
   "display_name": "GW",
   "language": "python",
   "name": "gw"
  },
  "language_info": {
   "codemirror_mode": {
    "name": "ipython",
    "version": 3
   },
   "file_extension": ".py",
   "mimetype": "text/x-python",
   "name": "python",
   "nbconvert_exporter": "python",
   "pygments_lexer": "ipython3",
   "version": "3.8.10"
  },
  "orig_nbformat": 4,
  "vscode": {
   "interpreter": {
    "hash": "ae6a26431d5729e52787d8340de92e98bb4d512a4d1cd15d8dd78e32d3a262a7"
   }
  }
 },
 "nbformat": 4,
 "nbformat_minor": 2
}
